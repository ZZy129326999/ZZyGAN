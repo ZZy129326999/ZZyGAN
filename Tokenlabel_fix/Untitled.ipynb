{
 "cells": [
  {
   "cell_type": "code",
   "execution_count": 38,
   "metadata": {},
   "outputs": [
    {
     "name": "stdout",
     "output_type": "stream",
     "text": [
      "./RiceDiseases/RiceDiseases/val\n",
      "./RiceDiseases/RiceDiseases/train\n",
      "./RiceDiseases/val/Blast\n",
      "./RiceDiseases/val/BacterialLeafBlight\n",
      "./RiceDiseases/val/BrownSpot\n",
      "./RiceDiseases/train/Blast\n",
      "./RiceDiseases/train/BacterialLeafBlight\n",
      "./RiceDiseases/train/BrownSpot\n"
     ]
    }
   ],
   "source": [
    "import os \n",
    "import shutil\n",
    "from glob import glob\n",
    "from PIL import Image \n",
    "path = r'../volo/RiceDiseases/'\n",
    "save_path = r'./RiceDiseases/'\n",
    "file = '.ipynb_checkpoints'\n",
    "for root, dirs, _ in os.walk(path):\n",
    "    for subdir in dirs:\n",
    "        path_ = os.path.join(root, subdir)\n",
    "#         print(path_)\n",
    "        if file in path_:\n",
    "            shutil.rmtree(path_)\n",
    "            continue\n",
    "        name = path_.split('/')[-1]\n",
    "        train_val = path_.split('/')[-2]\n",
    "        save_path_ = os.path.join(save_path, train_val, name)\n",
    "        if not os.path.exists(save_path_):\n",
    "            os.makedirs(save_path_)\n",
    "        print(save_path_)\n",
    "        for i, imgpath in enumerate(glob(path_ + r'/*.jpg')):\n",
    "            image = Image.open(imgpath)\n",
    "            image.save(save_path_ + '/' + name + '_' + str(i+1) + '.jpg')\n",
    "        "
   ]
  },
  {
   "cell_type": "code",
   "execution_count": 59,
   "metadata": {},
   "outputs": [
    {
     "name": "stdout",
     "output_type": "stream",
     "text": [
      "../volo1/data/RiceDiseases/Blast/Rotated\n",
      "./RiceDiseasesTMP/Blast\n",
      "../volo1/data/RiceDiseases/BacterialLeafBlight/rotated\n",
      "./RiceDiseasesTMP/BacterialLeafBlight\n",
      "../volo1/data/RiceDiseases/BrownSpot/rotated\n",
      "./RiceDiseasesTMP/BrownSpot\n"
     ]
    }
   ],
   "source": [
    "import os \n",
    "import shutil\n",
    "from glob import glob\n",
    "from PIL import Image \n",
    "path = r'../volo1/data/RiceDiseases/'\n",
    "save_path = r'./RiceDiseasesTMP/'\n",
    "file = '.ipynb_checkpoints'\n",
    "file1 = '.git'\n",
    "for root, dirs, _ in os.walk(path):\n",
    "    for subdir in dirs:\n",
    "        path_ = os.path.join(root, subdir)\n",
    "#         print(path_)\n",
    "        if file1 in path_:\n",
    "            shutil.rmtree(path_)\n",
    "            continue\n",
    "        name = path_.split('/')[-2]\n",
    "        save_path_ = os.path.join(save_path, name)\n",
    "        if 'otated' not in path_:\n",
    "            continue\n",
    "        print(path_)\n",
    "        if not os.path.exists(save_path_):\n",
    "            os.makedirs(save_path_)\n",
    "        print(save_path_)\n",
    "#         for i, imgpath in enumerate(glob(path_ + r'/*.jpg')):\n",
    "#             image = Image.open(imgpath)\n",
    "#             image.save(save_path_ + '/' + name + '_' + str(i+1) + '.jpg')\n",
    "        "
   ]
  },
  {
   "cell_type": "code",
   "execution_count": null,
   "metadata": {},
   "outputs": [],
   "source": []
  }
 ],
 "metadata": {
  "kernelspec": {
   "display_name": "Python 3",
   "language": "python",
   "name": "python3"
  },
  "language_info": {
   "codemirror_mode": {
    "name": "ipython",
    "version": 3
   },
   "file_extension": ".py",
   "mimetype": "text/x-python",
   "name": "python",
   "nbconvert_exporter": "python",
   "pygments_lexer": "ipython3",
   "version": "3.6.8"
  }
 },
 "nbformat": 4,
 "nbformat_minor": 4
}
