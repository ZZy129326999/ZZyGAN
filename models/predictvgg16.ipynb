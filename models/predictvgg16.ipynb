{
 "cells": [
  {
   "cell_type": "code",
   "execution_count": 1,
   "metadata": {},
   "outputs": [],
   "source": [
    "from tensorflow.keras.models import load_model\n",
    "import numpy as np\n",
    "# path='../data/data_a/'\n",
    "# model_path='./VGG_16/VGG16(a).h5'\n",
    "# x=np.load(path+'/'+'x_test.npy')\n",
    "# y=np.load(path+'/'+'y_test.npy')\n",
    "# model=load_model(model_path)\n",
    "# model.evaluate(x,y)"
   ]
  },
  {
   "cell_type": "code",
   "execution_count": 2,
   "metadata": {},
   "outputs": [
    {
     "name": "stdout",
     "output_type": "stream",
     "text": [
      "47/47 [==============================] - 1s 12ms/step - loss: 0.1397 - acc: 0.9580\n"
     ]
    },
    {
     "data": {
      "text/plain": [
       "[0.13967080414295197, 0.9580000042915344]"
      ]
     },
     "execution_count": 2,
     "metadata": {},
     "output_type": "execute_result"
    }
   ],
   "source": [
    "path='../data/nawmdata/'\n",
    "model_path='./VGG_16/VGG16(nawm).h5'\n",
    "x=np.load(path+'/'+'x_test.npy')\n",
    "y=np.load(path+'/'+'y_test.npy')\n",
    "model=load_model(model_path)\n",
    "model.evaluate(x,y)"
   ]
  },
  {
   "cell_type": "code",
   "execution_count": null,
   "metadata": {},
   "outputs": [
    {
     "name": "stdout",
     "output_type": "stream",
     "text": [
      "19/19 [==============================] - 0s 14ms/step - loss: 0.2494 - acc: 0.9500\n"
     ]
    },
    {
     "data": {
      "text/plain": [
       "[0.2493743598461151, 0.949999988079071]"
      ]
     },
     "execution_count": 2,
     "metadata": {},
     "output_type": "execute_result"
    }
   ],
   "source": [
    "path='../data/data_b/'\n",
    "model_path='./VGG_16/VGG16(zzyc1).h5'\n",
    "x=np.load(path+'/'+'x_test.npy')\n",
    "y=np.load(path+'/'+'y_test.npy')\n",
    "model=load_model(model_path)\n",
    "model.evaluate(x,y)"
   ]
  },
  {
   "cell_type": "code",
   "execution_count": null,
   "metadata": {},
   "outputs": [],
   "source": []
  }
 ],
 "metadata": {
  "kernelspec": {
   "display_name": "Python 3",
   "language": "python",
   "name": "python3"
  },
  "language_info": {
   "codemirror_mode": {
    "name": "ipython",
    "version": 3
   },
   "file_extension": ".py",
   "mimetype": "text/x-python",
   "name": "python",
   "nbconvert_exporter": "python",
   "pygments_lexer": "ipython3",
   "version": "3.6.8"
  }
 },
 "nbformat": 4,
 "nbformat_minor": 4
}
