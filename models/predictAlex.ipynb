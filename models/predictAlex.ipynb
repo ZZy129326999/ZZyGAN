{
 "cells": [
  {
   "cell_type": "code",
   "execution_count": 4,
   "metadata": {},
   "outputs": [
    {
     "name": "stdout",
     "output_type": "stream",
     "text": [
      "19/19 [==============================] - 0s 4ms/step - loss: 12.2535 - acc: 0.4800\n"
     ]
    },
    {
     "data": {
      "text/plain": [
       "[12.253457069396973, 0.47999998927116394]"
      ]
     },
     "execution_count": 4,
     "metadata": {},
     "output_type": "execute_result"
    }
   ],
   "source": [
    "from tensorflow.keras.models import load_model\n",
    "import numpy as np\n",
    "path='../data/data_b/'\n",
    "model_path='./AlexNet/AlexNet(b).h5'\n",
    "x=np.load(path+'/'+'x_test.npy')\n",
    "y=np.load(path+'/'+'y_test.npy')\n",
    "model=load_model(model_path)\n",
    "model.evaluate(x,y)"
   ]
  },
  {
   "cell_type": "code",
   "execution_count": 6,
   "metadata": {},
   "outputs": [
    {
     "name": "stdout",
     "output_type": "stream",
     "text": [
      "19/19 [==============================] - 0s 3ms/step - loss: 1.4829 - acc: 0.8967\n"
     ]
    },
    {
     "data": {
      "text/plain": [
       "[1.482889175415039, 0.8966666460037231]"
      ]
     },
     "execution_count": 6,
     "metadata": {},
     "output_type": "execute_result"
    }
   ],
   "source": [
    "path='../data/data_b/'\n",
    "model_path='./AlexNet/AlexNet(c).h5'\n",
    "x=np.load(path+'/'+'x_test.npy')\n",
    "y=np.load(path+'/'+'y_test.npy')\n",
    "model=load_model(model_path)\n",
    "model.evaluate(x,y)"
   ]
  },
  {
   "cell_type": "code",
   "execution_count": null,
   "metadata": {},
   "outputs": [],
   "source": []
  }
 ],
 "metadata": {
  "kernelspec": {
   "display_name": "Python 3",
   "language": "python",
   "name": "python3"
  },
  "language_info": {
   "codemirror_mode": {
    "name": "ipython",
    "version": 3
   },
   "file_extension": ".py",
   "mimetype": "text/x-python",
   "name": "python",
   "nbconvert_exporter": "python",
   "pygments_lexer": "ipython3",
   "version": "3.6.8"
  }
 },
 "nbformat": 4,
 "nbformat_minor": 4
}
