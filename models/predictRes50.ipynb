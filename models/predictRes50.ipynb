{
 "cells": [
  {
   "cell_type": "code",
   "execution_count": 10,
   "metadata": {},
   "outputs": [
    {
     "name": "stdout",
     "output_type": "stream",
     "text": [
      "10/10 [==============================] - 0s 33ms/step - loss: 0.1284 - acc: 0.9833\n"
     ]
    },
    {
     "data": {
      "text/plain": [
       "[0.12843266129493713, 0.9833333492279053]"
      ]
     },
     "execution_count": 10,
     "metadata": {},
     "output_type": "execute_result"
    }
   ],
   "source": [
    "from tensorflow.keras.models import load_model\n",
    "import numpy as np\n",
    "path='../data/data_a/'\n",
    "model_path='./ResNet_50/ResNet50(a).h5'\n",
    "x=np.load(path+'/'+'x_test.npy')\n",
    "y=np.load(path+'/'+'y_test.npy')\n",
    "model=load_model(model_path)\n",
    "model.evaluate(x,y)"
   ]
  },
  {
   "cell_type": "code",
   "execution_count": 11,
   "metadata": {},
   "outputs": [
    {
     "name": "stdout",
     "output_type": "stream",
     "text": [
      "19/19 [==============================] - 0s 14ms/step - loss: 0.4802 - acc: 0.9217\n"
     ]
    },
    {
     "data": {
      "text/plain": [
       "[0.48020467162132263, 0.92166668176651]"
      ]
     },
     "execution_count": 11,
     "metadata": {},
     "output_type": "execute_result"
    }
   ],
   "source": [
    "path='../data/data_b/'\n",
    "model_path='./ResNet_50/ResNet50(b).h5'\n",
    "x=np.load(path+'/'+'x_test.npy')\n",
    "y=np.load(path+'/'+'y_test.npy')\n",
    "model=load_model(model_path)\n",
    "model.evaluate(x,y)"
   ]
  },
  {
   "cell_type": "code",
   "execution_count": 13,
   "metadata": {},
   "outputs": [
    {
     "name": "stdout",
     "output_type": "stream",
     "text": [
      "19/19 [==============================] - 0s 14ms/step - loss: 1.2376 - acc: 0.6817\n"
     ]
    },
    {
     "data": {
      "text/plain": [
       "[1.237562656402588, 0.6816666722297668]"
      ]
     },
     "execution_count": 13,
     "metadata": {},
     "output_type": "execute_result"
    }
   ],
   "source": [
    "path='../data/data_b/'\n",
    "model_path='./ResNet_50/ResNet50(zzyc1).h5'\n",
    "x=np.load(path+'/'+'x_test.npy')\n",
    "y=np.load(path+'/'+'y_test.npy')\n",
    "model=load_model(model_path)\n",
    "model.evaluate(x,y)"
   ]
  },
  {
   "cell_type": "code",
   "execution_count": null,
   "metadata": {},
   "outputs": [],
   "source": []
  }
 ],
 "metadata": {
  "kernelspec": {
   "display_name": "Python 3",
   "language": "python",
   "name": "python3"
  },
  "language_info": {
   "codemirror_mode": {
    "name": "ipython",
    "version": 3
   },
   "file_extension": ".py",
   "mimetype": "text/x-python",
   "name": "python",
   "nbconvert_exporter": "python",
   "pygments_lexer": "ipython3",
   "version": "3.6.8"
  }
 },
 "nbformat": 4,
 "nbformat_minor": 4
}
