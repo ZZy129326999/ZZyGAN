{
 "cells": [
  {
   "cell_type": "code",
   "execution_count": 3,
   "metadata": {},
   "outputs": [],
   "source": [
    "from tensorflow.keras.models import load_model\n",
    "import numpy as np\n",
    "# path='../data/data_a/'\n",
    "# model_path='./X_ception/Xception(a).h5'\n",
    "# x=np.load(path+'/'+'x_test.npy')\n",
    "# y=np.load(path+'/'+'y_test.npy')\n",
    "# model=load_model(model_path)\n",
    "# model.evaluate(x,y)"
   ]
  },
  {
   "cell_type": "code",
   "execution_count": 5,
   "metadata": {},
   "outputs": [
    {
     "name": "stdout",
     "output_type": "stream",
     "text": [
      "47/47 [==============================] - 1s 15ms/step - loss: 0.2495 - acc: 0.9193\n"
     ]
    },
    {
     "data": {
      "text/plain": [
       "[0.24948687851428986, 0.9193333387374878]"
      ]
     },
     "execution_count": 5,
     "metadata": {},
     "output_type": "execute_result"
    }
   ],
   "source": [
    "path='../data/nawmdata/'\n",
    "model_path='./X_ception/Xception(nawm).h5'\n",
    "x=np.load(path+'/'+'x_test.npy')\n",
    "y=np.load(path+'/'+'y_test.npy')\n",
    "model=load_model(model_path)\n",
    "model.evaluate(x,y)"
   ]
  },
  {
   "cell_type": "code",
   "execution_count": 6,
   "metadata": {},
   "outputs": [
    {
     "name": "stdout",
     "output_type": "stream",
     "text": [
      "19/19 [==============================] - 0s 12ms/step - loss: 0.5507 - acc: 0.8033\n"
     ]
    },
    {
     "data": {
      "text/plain": [
       "[0.550733745098114, 0.8033333420753479]"
      ]
     },
     "execution_count": 6,
     "metadata": {},
     "output_type": "execute_result"
    }
   ],
   "source": [
    "path='../data/data_b/'\n",
    "model_path='./X_ception/Xception(zzyb).h5'\n",
    "x=np.load(path+'/'+'x_test.npy')\n",
    "y=np.load(path+'/'+'y_test.npy')\n",
    "model=load_model(model_path)\n",
    "model.evaluate(x,y)"
   ]
  },
  {
   "cell_type": "code",
   "execution_count": null,
   "metadata": {},
   "outputs": [],
   "source": []
  }
 ],
 "metadata": {
  "kernelspec": {
   "display_name": "Python 3",
   "language": "python",
   "name": "python3"
  },
  "language_info": {
   "codemirror_mode": {
    "name": "ipython",
    "version": 3
   },
   "file_extension": ".py",
   "mimetype": "text/x-python",
   "name": "python",
   "nbconvert_exporter": "python",
   "pygments_lexer": "ipython3",
   "version": "3.6.8"
  }
 },
 "nbformat": 4,
 "nbformat_minor": 4
}
